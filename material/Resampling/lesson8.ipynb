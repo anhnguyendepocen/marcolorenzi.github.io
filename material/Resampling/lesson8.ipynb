{
 "cells": [
  {
   "cell_type": "markdown",
   "metadata": {},
   "source": [
    "# Information criteria II\n",
    "\n",
    "During the last lesson we introduced the __Akaike Information Criterion (AIC)__ as a measure for model selection. \n",
    "If $q$ is the likelihood of the model associated to our model, the deviance is defined as: \n",
    "\n",
    "$$D(q) = -2*\\sum_i \\log(q_i),$$\n",
    "\n",
    "and AIC is:\n",
    "\n",
    "$$ AIC = D_{train} + 2 N_{parameters} $$\n",
    "\n",
    "We have seen that the model with the lowest AIC is the one that minimizes the Kullback-Leibler distance between the model and the truth. This score is based on information theory, and we can think about it is as a criterion that seeks a model that has a good fit to the truth but few parameters. \n",
    "\n",
    "In particular, when we have Gaussian assumptions on the residuals, we have seen that the log-likelihood of a regression model corresponds to:\n",
    "\n",
    "$$\\log(q(\\mathbf{y}|\\mathbf{X},\\mathbf{w},\\sigma^2)) = \\sum_{i=1}^N \\log( \\mathcal{N}(y_i|f(\\mathbf{x}_i,\\mathbf{w}),\\sigma^2)\\\\\n",
    "=  -\\frac{N}{2}\\log(\\sigma^2) - \\frac{N}{2}\\log(2\\pi) - \\frac{1}{2\\sigma^2}\\sum_{i=1}^N (y_i - f(\\mathbf{x}_i,\\mathbf{w}))^2.\n",
    "$$\n",
    "\n",
    "We recall that the _least squares_ estimates of the variance is \n",
    "\n",
    "$$ \\mathbf{\\sigma^2}_{ML} = \\frac{1}{N} \\sum_{i=1}^N  (y_i - \\mathbf{x}_i\\mathbf{w}_{ML}^T)^2, $$\n",
    "\n",
    "where $\\mathbf{w}_{ML}$ is the least squares estimate of the regression coefficients. In particular, $ \\mathbf{\\sigma^2}_{ML} = RSS/N$, where $RSS$ is the residual sum of squares $RSS = \\sum_{i=1}^N  (y_i - \\mathbf{x}_i\\mathbf{w}_{ML}^T)^2$.\n",
    "We can therefore rewrite the log-likelihood as:\n",
    "\n",
    "\\begin{align*} \n",
    "\\log(q(\\mathbf{y}|\\mathbf{X},\\mathbf{w},\\sigma^2)) & = -\\frac{N}{2}\\log(\\frac{RSS}{N}) - \\frac{N}{2}\\log(2\\pi) - \\frac{N}{2} \\\n",
    "& = -\\frac{N}{2}\\log(\\frac{RSS}{N}) + E,\n",
    "\\end{align*}\n",
    "Where $E$ is a constant that does not depend on the model, but only from the sample size $N$. Therefore, the AIC can be rewritten as:\n",
    "\n",
    "$$ AIC = N\\log(\\frac{RSS}{N}) - 2E + 2 N_{parameters} = N\\log(RSS) + 2 N_{parameters} + E_2,$$\n",
    "where again, the term $E_2$ does not depend on the model fit. We note that when two models have the same number of parameters, the difference between the AIC will depend only on the difference between their repsective $RSS$: the selected model is the one with the lowest sum of squares difference. \n",
    "\n",
    "\n",
    "## Beyond the AIC\n",
    "\n",
    "Several other information criteria have been proposed in the literature, each of them based on similar principles as for AIC. For example, based on the observation that the properties of AIC are asymptotic, i.e. they work when the sample size $N$ is large, a corrected version of AIC, called __AICc__, has been proposed.\n",
    "\n",
    "The AICc is defined as follows:\n",
    "\n",
    "$$ AICc = AIC + 2 N_{parameters} \\frac{(N_{parameters}+1)}{(N-N_{parameters}-1)}. $$\n",
    "\n",
    "We note that when $N$ is very large, the AICc converges to AIC, while the correction factor will be more relevant for small sample sizes. The rule of thumb for using AICc is when the ratio $\\frac{N}{N_{parameters}}$ is less than 40, and in general, AICc is always preferred to AIC."
   ]
  },
  {
   "cell_type": "code",
   "execution_count": 1,
   "metadata": {},
   "outputs": [
    {
     "data": {
      "text/plain": [
       "<Figure size 640x480 with 1 Axes>"
      ]
     },
     "metadata": {},
     "output_type": "display_data"
    }
   ],
   "source": [
    "import numpy as np\n",
    "import matplotlib.pyplot as plt\n",
    "import pandas as pd\n",
    "\n",
    "\n",
    "def AIC_penalty(k):\n",
    "    return 2*k\n",
    "\n",
    "def AICc_penalty(k,n):\n",
    "    return 2*k + 2*k*(k+1)/(n-k-1)\n",
    "\n",
    "sample_size = [50, 100, 1000]\n",
    "\n",
    "\n",
    "## for each sample size n and model parameters k, compute the AICc\n",
    "for n in sample_size:\n",
    "    AICc_term = []\n",
    "    for k in np.arange(1,40):\n",
    "        AICc_term.append(AICc_penalty(k,n))\n",
    "\n",
    "    plt.plot(np.arange(1,40),AICc_term, label = 'AICc sample size = ' + str(n), linestyle = '-')\n",
    "\n",
    "    \n",
    "## The AIC is independent on the sample size n, and is computed only once    \n",
    "plt.plot(np.arange(1,40),2*np.arange(1,40), label = 'AIC', linestyle = '-', color = 'black')    \n",
    "plt.title('Correction factor for the different information criteria')\n",
    "plt.xlabel('N dimensions')\n",
    "plt.ylabel('penalty')\n",
    "plt.legend()    \n",
    "plt.show()\n"
   ]
  },
  {
   "cell_type": "markdown",
   "metadata": {},
   "source": [
    "We note that the increment of AIC is constant $\\Delta(AIC) = 2(k+1) - 2k = 2$, while the increment of $AICc$ is more complex:"
   ]
  },
  {
   "cell_type": "code",
   "execution_count": 2,
   "metadata": {},
   "outputs": [
    {
     "data": {
      "image/png": "[encoded data removed]",
      "text/plain": [
       "<Figure size 432x288 with 1 Axes>"
      ]
     },
     "metadata": {
      "needs_background": "light"
     },
     "output_type": "display_data"
    }
   ],
   "source": [
    "## Plot Delta(AICc) for each sample size n and model parameters k\n",
    "for n in sample_size:\n",
    "    AICc_term = []\n",
    "    for k in np.arange(1,40):\n",
    "        AICc_term.append(AICc_penalty(k,n))\n",
    "\n",
    "    plt.plot(np.arange(2,40),np.diff(AICc_term), label = 'AICc sample size = ' + str(n), linestyle = '-')\n",
    "\n",
    "plt.plot(np.arange(2,40),np.diff(2*np.arange(1,40)), label = 'AIC', linestyle = '-', color = 'black')    \n",
    "plt.title('Delta correction factor for the different information criteria')\n",
    "plt.xlabel('N dimensions')\n",
    "plt.xlabel('penalty')\n",
    "plt.legend()    \n",
    "plt.show()"
   ]
  },
  {
   "cell_type": "markdown",
   "metadata": {},
   "source": [
    "Another widely used criterion for model selection is the __Bayesian information criterion (BIC)__ (or Schwarz information criterion). This criterion is closely related to the AIC as it is defined as:\n",
    "\n",
    "\n",
    "$$ BIC = D_{train} + 2  N_{parameters} \\log{N} .$$ \n",
    "\n",
    "Similarly to the AIC, the BIC penalizes the increase of the likelihood by the number of parameters used to fit the model. The penalty term is however much larger for BIC than for AIC. Let's see this in practice."
   ]
  },
  {
   "cell_type": "code",
   "execution_count": 3,
   "metadata": {},
   "outputs": [
    {
     "data": {
      "image/png": "[encoded data removed]",
      "text/plain": [
       "<Figure size 432x288 with 1 Axes>"
      ]
     },
     "metadata": {
      "needs_background": "light"
     },
     "output_type": "display_data"
    }
   ],
   "source": [
    "def BIC_penalty(k,n):\n",
    "    return 2*k*np.log(n)\n",
    "\n",
    "sample_size = [50, 100]\n",
    "\n",
    "## for each sample size n and model parameters k, compute the BIC\n",
    "for n in sample_size:\n",
    "    BIC_term = []\n",
    "    for k in np.arange(1,40):\n",
    "        BIC_term.append(BIC_penalty(k,n))\n",
    "\n",
    "    plt.plot(np.arange(1,40),BIC_term, label = 'BIC sample size = ' + str(n), linestyle = ':')\n",
    "\n",
    "plt.plot(np.arange(1,40),2*np.arange(1,40), label = 'AIC', linestyle = '-', color = 'black')    \n",
    "plt.title('Correction factor for the different information criteria')\n",
    "plt.xlabel('N dimensions')\n",
    "plt.xlabel('penalty')\n",
    "plt.legend()    \n",
    "plt.show()\n",
    "\n"
   ]
  },
  {
   "cell_type": "code",
   "execution_count": 4,
   "metadata": {},
   "outputs": [
    {
     "data": {
      "image/png": "[encoded data removed]",
      "text/plain": [
       "<Figure size 432x288 with 1 Axes>"
      ]
     },
     "metadata": {
      "needs_background": "light"
     },
     "output_type": "display_data"
    }
   ],
   "source": [
    "## Plot Delta(BIC) for each sample size n and model parameters k\n",
    "for n in sample_size:\n",
    "    BIC_term = []\n",
    "    for k in np.arange(1,40):\n",
    "        BIC_term.append(BIC_penalty(k,n))\n",
    "\n",
    "    plt.plot(np.arange(2,40),np.diff(BIC_term), label = 'BIC sample size = ' + str(n), linestyle = '-')\n",
    "\n",
    "plt.plot(np.arange(2,40),np.diff(2*np.arange(1,40)), label = 'AIC', linestyle = '-', color = 'black')    \n",
    "plt.title('Delta correction factor for the different information criteria')\n",
    "plt.xlabel('N dimensions')\n",
    "plt.xlabel('penalty')\n",
    "plt.legend()    \n",
    "plt.show()"
   ]
  },
  {
   "cell_type": "markdown",
   "metadata": {},
   "source": [
    "Due to the large penalization on the number of parameters, it is known that BIC tends to prefer much simpler models than AIC. \n",
    "\n",
    "\n",
    "## Information criteria in action\n",
    "\n",
    "In what follows we are going to analyze the behaviour of these 3 critera in a practical case. \n",
    "We define as usual synthetic data according to a multivariate regression model.\n"
   ]
  },
  {
   "cell_type": "code",
   "execution_count": 5,
   "metadata": {},
   "outputs": [
    {
     "name": "stdout",
     "output_type": "stream",
     "text": [
      "The regression coefficients are :\n",
      " [ 0.          0.         -0.35333559  3.49935344  2.41336952]\n"
     ]
    }
   ],
   "source": [
    "N = 20\n",
    "d = 5\n",
    "\n",
    "# Define as usual our random data x\n",
    "x = np.random.randn(N*d).reshape(N,d)\n",
    "\n",
    "# We randomly generate the d regression coefficients\n",
    "coefficients = 5*np.random.randn(d)\n",
    "\n",
    "# We set to 0 the first coefficients to generate meaningless variables\n",
    "coefficients[:2] = 0\n",
    "\n",
    "print('The regression coefficients are :\\n {}'.format(coefficients))"
   ]
  },
  {
   "cell_type": "code",
   "execution_count": 6,
   "metadata": {},
   "outputs": [
    {
     "name": "stdout",
     "output_type": "stream",
     "text": [
      "The observed data has shape (20,), with mean -0.81 and variance 12.71\n"
     ]
    }
   ],
   "source": [
    "var_noise = 3\n",
    "noise = np.random.randn(N) * var_noise\n",
    "\n",
    "y = x.dot(coefficients)  + noise\n",
    "\n",
    "print('The observed data has shape {0}, with mean {1:2.2f} and variance {2:2.2f}'.format(y.shape, np.mean(y), np.var(y)))"
   ]
  },
  {
   "cell_type": "markdown",
   "metadata": {},
   "source": [
    "In the way we defined our regression, there will be less informative variables than the number of model parameters. The information criteria should allow to detect this aspect."
   ]
  },
  {
   "cell_type": "markdown",
   "metadata": {},
   "source": [
    "Once we generated our data, we compute the information criteria to identify the best combination of coefficients to describe the output:"
   ]
  },
  {
   "cell_type": "code",
   "execution_count": 7,
   "metadata": {},
   "outputs": [],
   "source": [
    "import itertools\n",
    "\n",
    "# Supporting functions for model fitting\n",
    "def Gaussian_loglik(x,y,w,sigma2):\n",
    "    N = len(y)\n",
    "    ll = -N/2 * np.log(2*np.pi*sigma2) - 1/(2*sigma2) * np.sum((y-x.dot(w.T))**2)\n",
    "    return ll\n",
    "\n",
    "def fit_poly(x,y):\n",
    "    w_ml = np.linalg.solve(x.T.dot(x),x.T.dot(y))\n",
    "    w_ml.reshape(1,(len(w_ml)))\n",
    "    sigma2_ml = np.mean((y-x.dot(w_ml.T))**2)\n",
    "    return w_ml, sigma2_ml"
   ]
  },
  {
   "cell_type": "code",
   "execution_count": 8,
   "metadata": {},
   "outputs": [
    {
     "name": "stderr",
     "output_type": "stream",
     "text": [
      "/Users/mlorenzi/miniconda3/lib/python3.6/site-packages/ipykernel_launcher.py:26: FutureWarning: Using a non-tuple sequence for multidimensional indexing is deprecated; use `arr[tuple(seq)]` instead of `arr[seq]`. In the future this will be interpreted as an array index, `arr[np.array(seq)]`, which will result either in an error or a different result.\n"
     ]
    },
    {
     "data": {
      "text/html": [
       "<div>\n",
       "<style scoped>\n",
       "    .dataframe tbody tr th:only-of-type {\n",
       "        vertical-align: middle;\n",
       "    }\n",
       "\n",
       "    .dataframe tbody tr th {\n",
       "        vertical-align: top;\n",
       "    }\n",
       "\n",
       "    .dataframe thead th {\n",
       "        text-align: right;\n",
       "    }\n",
       "</style>\n",
       "<table border=\"1\" class=\"dataframe\">\n",
       "  <thead>\n",
       "    <tr style=\"text-align: right;\">\n",
       "      <th></th>\n",
       "      <th>model</th>\n",
       "      <th>AIC</th>\n",
       "      <th>AICc</th>\n",
       "      <th>BIC</th>\n",
       "      <th>neg_loglik</th>\n",
       "    </tr>\n",
       "  </thead>\n",
       "  <tbody>\n",
       "    <tr>\n",
       "      <th>0</th>\n",
       "      <td>(0, 3, 4)</td>\n",
       "      <td>93.103167</td>\n",
       "      <td>94.603167</td>\n",
       "      <td>105.077561</td>\n",
       "      <td>43.551584</td>\n",
       "    </tr>\n",
       "    <tr>\n",
       "      <th>1</th>\n",
       "      <td>(3, 4)</td>\n",
       "      <td>94.683363</td>\n",
       "      <td>95.389245</td>\n",
       "      <td>102.666292</td>\n",
       "      <td>45.341681</td>\n",
       "    </tr>\n",
       "    <tr>\n",
       "      <th>2</th>\n",
       "      <td>(0, 2, 3, 4)</td>\n",
       "      <td>94.944993</td>\n",
       "      <td>97.611660</td>\n",
       "      <td>110.910851</td>\n",
       "      <td>43.472496</td>\n",
       "    </tr>\n",
       "    <tr>\n",
       "      <th>3</th>\n",
       "      <td>(0, 1, 3, 4)</td>\n",
       "      <td>95.027496</td>\n",
       "      <td>97.694163</td>\n",
       "      <td>110.993355</td>\n",
       "      <td>43.513748</td>\n",
       "    </tr>\n",
       "    <tr>\n",
       "      <th>4</th>\n",
       "      <td>(2, 3, 4)</td>\n",
       "      <td>96.552954</td>\n",
       "      <td>98.052954</td>\n",
       "      <td>108.527347</td>\n",
       "      <td>45.276477</td>\n",
       "    </tr>\n",
       "    <tr>\n",
       "      <th>5</th>\n",
       "      <td>(1, 3, 4)</td>\n",
       "      <td>96.575179</td>\n",
       "      <td>98.075179</td>\n",
       "      <td>108.549573</td>\n",
       "      <td>45.287590</td>\n",
       "    </tr>\n",
       "    <tr>\n",
       "      <th>6</th>\n",
       "      <td>(0, 1, 2, 3, 4)</td>\n",
       "      <td>96.893968</td>\n",
       "      <td>101.179682</td>\n",
       "      <td>116.851291</td>\n",
       "      <td>43.446984</td>\n",
       "    </tr>\n",
       "    <tr>\n",
       "      <th>7</th>\n",
       "      <td>(4,)</td>\n",
       "      <td>97.632008</td>\n",
       "      <td>97.854230</td>\n",
       "      <td>101.623472</td>\n",
       "      <td>47.816004</td>\n",
       "    </tr>\n",
       "    <tr>\n",
       "      <th>8</th>\n",
       "      <td>(0, 4)</td>\n",
       "      <td>98.076256</td>\n",
       "      <td>98.782138</td>\n",
       "      <td>106.059185</td>\n",
       "      <td>47.038128</td>\n",
       "    </tr>\n",
       "    <tr>\n",
       "      <th>9</th>\n",
       "      <td>(1, 2, 3, 4)</td>\n",
       "      <td>98.471708</td>\n",
       "      <td>101.138375</td>\n",
       "      <td>114.437567</td>\n",
       "      <td>45.235854</td>\n",
       "    </tr>\n",
       "  </tbody>\n",
       "</table>\n",
       "</div>"
      ],
      "text/plain": [
       "             model        AIC        AICc         BIC  neg_loglik\n",
       "0        (0, 3, 4)  93.103167   94.603167  105.077561   43.551584\n",
       "1           (3, 4)  94.683363   95.389245  102.666292   45.341681\n",
       "2     (0, 2, 3, 4)  94.944993   97.611660  110.910851   43.472496\n",
       "3     (0, 1, 3, 4)  95.027496   97.694163  110.993355   43.513748\n",
       "4        (2, 3, 4)  96.552954   98.052954  108.527347   45.276477\n",
       "5        (1, 3, 4)  96.575179   98.075179  108.549573   45.287590\n",
       "6  (0, 1, 2, 3, 4)  96.893968  101.179682  116.851291   43.446984\n",
       "7             (4,)  97.632008   97.854230  101.623472   47.816004\n",
       "8           (0, 4)  98.076256   98.782138  106.059185   47.038128\n",
       "9     (1, 2, 3, 4)  98.471708  101.138375  114.437567   45.235854"
      ]
     },
     "execution_count": 8,
     "metadata": {},
     "output_type": "execute_result"
    }
   ],
   "source": [
    "AIC = []\n",
    "AICc = []\n",
    "BIC = []\n",
    "model = []\n",
    "ll = []\n",
    "coef = []\n",
    "sigma2 = []\n",
    "\n",
    "# For each number of parameters in the model\n",
    "for n_elements in range(1,d+1):\n",
    "    # For each combination of variables\n",
    "    for indices in itertools.combinations(range(d),n_elements):\n",
    "\n",
    "        # Store the indices corresponding to the parameters\n",
    "        model.append(indices)\n",
    "        \n",
    "        # Fit the model\n",
    "        x_train = x[:,indices].reshape(x.shape[0],n_elements)\n",
    "        w_ml, sigma2_ml = fit_poly(x_train,y)\n",
    "        \n",
    "        # compute the log-likelihhod\n",
    "        training_ll = Gaussian_loglik(x_train,y,w_ml,sigma2_ml)\n",
    "        \n",
    "        # store the coefficients\n",
    "        coefficients = np.zeros(d)\n",
    "        coefficients[[indices]] = w_ml        \n",
    "        coef.append(coefficients)\n",
    "        sigma2.append(sigma2_ml)\n",
    "        \n",
    "        # store all the metrics\n",
    "        ll.append( -training_ll)\n",
    "        AIC.append(-2*training_ll + 2*n_elements)\n",
    "        AICc.append(-2*training_ll + 2*n_elements + 2.*n_elements*(n_elements+1)/(x.shape[0]-n_elements-1))\n",
    "        BIC.append(-2*training_ll + 2*n_elements*np.log(x.shape[0]))\n",
    " \n",
    "\n",
    "\n",
    "results = pd.DataFrame({'model': model, 'AIC': AIC, 'AICc': AICc, 'BIC' :BIC, \n",
    "                                 'neg_loglik' : ll, 'coef' : coef, 'sigma2' : sigma2})  \n",
    "results.sort_values('AIC', ascending = True, inplace = True)\n",
    "results.reset_index(inplace = True)\n",
    "model_comparison = results[['model', 'AIC', 'AICc', 'BIC', 'neg_loglik']]\n",
    "\n",
    "fitted_models = results[['model', 'coef', 'sigma2']]\n",
    "\n",
    "model_comparison[:10]"
   ]
  },
  {
   "cell_type": "markdown",
   "metadata": {},
   "source": [
    "## Model comparison and averaging\n",
    "\n",
    "A classical use of the information criteria consists in keeping the model with the lowest score, and discarding the other. While this procedure is legitimated by the definition of information criteria, it discards the information about relative model accuracy provided by the scores. It is indeed very informative wo know if relative differences between models are small or large. This difference is a measure on how confident we an be about a model. \n",
    "\n",
    "In this section we will study the following operations:\n",
    "\n",
    "- Model comparison: making use of the information scores to understand why a model outperforms another.\n",
    "- Model averaging: defining a new model prediction by exploiting the differences between the models."
   ]
  },
  {
   "cell_type": "markdown",
   "metadata": {},
   "source": [
    "We start by computing the differences between each AIC and the lowest AIC:"
   ]
  },
  {
   "cell_type": "code",
   "execution_count": 9,
   "metadata": {},
   "outputs": [
    {
     "data": {
      "text/html": [
       "<div>\n",
       "<style scoped>\n",
       "    .dataframe tbody tr th:only-of-type {\n",
       "        vertical-align: middle;\n",
       "    }\n",
       "\n",
       "    .dataframe tbody tr th {\n",
       "        vertical-align: top;\n",
       "    }\n",
       "\n",
       "    .dataframe thead th {\n",
       "        text-align: right;\n",
       "    }\n",
       "</style>\n",
       "<table border=\"1\" class=\"dataframe\">\n",
       "  <thead>\n",
       "    <tr style=\"text-align: right;\">\n",
       "      <th></th>\n",
       "      <th>model</th>\n",
       "      <th>AIC</th>\n",
       "      <th>AICc</th>\n",
       "      <th>BIC</th>\n",
       "      <th>neg_loglik</th>\n",
       "      <th>d</th>\n",
       "    </tr>\n",
       "  </thead>\n",
       "  <tbody>\n",
       "    <tr>\n",
       "      <th>0</th>\n",
       "      <td>(0, 3, 4)</td>\n",
       "      <td>93.103167</td>\n",
       "      <td>94.603167</td>\n",
       "      <td>105.077561</td>\n",
       "      <td>43.551584</td>\n",
       "      <td>0.000000</td>\n",
       "    </tr>\n",
       "    <tr>\n",
       "      <th>1</th>\n",
       "      <td>(3, 4)</td>\n",
       "      <td>94.683363</td>\n",
       "      <td>95.389245</td>\n",
       "      <td>102.666292</td>\n",
       "      <td>45.341681</td>\n",
       "      <td>1.580196</td>\n",
       "    </tr>\n",
       "    <tr>\n",
       "      <th>2</th>\n",
       "      <td>(0, 2, 3, 4)</td>\n",
       "      <td>94.944993</td>\n",
       "      <td>97.611660</td>\n",
       "      <td>110.910851</td>\n",
       "      <td>43.472496</td>\n",
       "      <td>1.841826</td>\n",
       "    </tr>\n",
       "    <tr>\n",
       "      <th>3</th>\n",
       "      <td>(0, 1, 3, 4)</td>\n",
       "      <td>95.027496</td>\n",
       "      <td>97.694163</td>\n",
       "      <td>110.993355</td>\n",
       "      <td>43.513748</td>\n",
       "      <td>1.924329</td>\n",
       "    </tr>\n",
       "    <tr>\n",
       "      <th>4</th>\n",
       "      <td>(2, 3, 4)</td>\n",
       "      <td>96.552954</td>\n",
       "      <td>98.052954</td>\n",
       "      <td>108.527347</td>\n",
       "      <td>45.276477</td>\n",
       "      <td>3.449787</td>\n",
       "    </tr>\n",
       "    <tr>\n",
       "      <th>5</th>\n",
       "      <td>(1, 3, 4)</td>\n",
       "      <td>96.575179</td>\n",
       "      <td>98.075179</td>\n",
       "      <td>108.549573</td>\n",
       "      <td>45.287590</td>\n",
       "      <td>3.472012</td>\n",
       "    </tr>\n",
       "    <tr>\n",
       "      <th>6</th>\n",
       "      <td>(0, 1, 2, 3, 4)</td>\n",
       "      <td>96.893968</td>\n",
       "      <td>101.179682</td>\n",
       "      <td>116.851291</td>\n",
       "      <td>43.446984</td>\n",
       "      <td>3.790801</td>\n",
       "    </tr>\n",
       "    <tr>\n",
       "      <th>7</th>\n",
       "      <td>(4,)</td>\n",
       "      <td>97.632008</td>\n",
       "      <td>97.854230</td>\n",
       "      <td>101.623472</td>\n",
       "      <td>47.816004</td>\n",
       "      <td>4.528840</td>\n",
       "    </tr>\n",
       "    <tr>\n",
       "      <th>8</th>\n",
       "      <td>(0, 4)</td>\n",
       "      <td>98.076256</td>\n",
       "      <td>98.782138</td>\n",
       "      <td>106.059185</td>\n",
       "      <td>47.038128</td>\n",
       "      <td>4.973088</td>\n",
       "    </tr>\n",
       "    <tr>\n",
       "      <th>9</th>\n",
       "      <td>(1, 2, 3, 4)</td>\n",
       "      <td>98.471708</td>\n",
       "      <td>101.138375</td>\n",
       "      <td>114.437567</td>\n",
       "      <td>45.235854</td>\n",
       "      <td>5.368541</td>\n",
       "    </tr>\n",
       "  </tbody>\n",
       "</table>\n",
       "</div>"
      ],
      "text/plain": [
       "             model        AIC        AICc         BIC  neg_loglik         d\n",
       "0        (0, 3, 4)  93.103167   94.603167  105.077561   43.551584  0.000000\n",
       "1           (3, 4)  94.683363   95.389245  102.666292   45.341681  1.580196\n",
       "2     (0, 2, 3, 4)  94.944993   97.611660  110.910851   43.472496  1.841826\n",
       "3     (0, 1, 3, 4)  95.027496   97.694163  110.993355   43.513748  1.924329\n",
       "4        (2, 3, 4)  96.552954   98.052954  108.527347   45.276477  3.449787\n",
       "5        (1, 3, 4)  96.575179   98.075179  108.549573   45.287590  3.472012\n",
       "6  (0, 1, 2, 3, 4)  96.893968  101.179682  116.851291   43.446984  3.790801\n",
       "7             (4,)  97.632008   97.854230  101.623472   47.816004  4.528840\n",
       "8           (0, 4)  98.076256   98.782138  106.059185   47.038128  4.973088\n",
       "9     (1, 2, 3, 4)  98.471708  101.138375  114.437567   45.235854  5.368541"
      ]
     },
     "execution_count": 9,
     "metadata": {},
     "output_type": "execute_result"
    }
   ],
   "source": [
    "differences_wrt_minimum = model_comparison.AIC - model_comparison.AIC[0]\n",
    "\n",
    "model_comparison.insert(len(model_comparison.columns), 'd', differences_wrt_minimum)\n",
    "\n",
    "model_comparison[:10]"
   ]
  },
  {
   "cell_type": "markdown",
   "metadata": {},
   "source": [
    "We note that in terms of differences in AIC, the first models are rather close. This means that they should provide very similar generalization error. Let's verify this in practice:"
   ]
  },
  {
   "cell_type": "code",
   "execution_count": 10,
   "metadata": {},
   "outputs": [
    {
     "data": {
      "image/png": "[encoded data removed]",
      "text/plain": [
       "<Figure size 432x288 with 1 Axes>"
      ]
     },
     "metadata": {
      "needs_background": "light"
     },
     "output_type": "display_data"
    }
   ],
   "source": [
    "MSE = []\n",
    "for model in range(len(fitted_models)):\n",
    "    fold_MSE = []\n",
    "    for i in range(500):\n",
    "        x = np.random.randn(1000*d).reshape(1000,d)\n",
    "        noise = np.random.randn(1000) * var_noise\n",
    "        y = x.dot(coefficients)  + noise\n",
    "        prediction = x.dot(fitted_models.coef[model])\n",
    "        fold_MSE.append(np.mean((y-prediction)**2))\n",
    "    MSE.append(np.mean(fold_MSE))\n",
    "    \n",
    "plt.plot(MSE,model_comparison['d'])\n",
    "plt.xlabel('generalization error')\n",
    "plt.ylabel('delta AIC')\n",
    "plt.show()"
   ]
  },
  {
   "cell_type": "code",
   "execution_count": 11,
   "metadata": {},
   "outputs": [
    {
     "data": {
      "image/png": "[encoded data removed]",
      "text/plain": [
       "<Figure size 432x288 with 1 Axes>"
      ]
     },
     "metadata": {
      "needs_background": "light"
     },
     "output_type": "display_data"
    }
   ],
   "source": [
    "plt.plot(MSE[:10],model_comparison['d'][:10])\n",
    "plt.xlabel('generalization error')\n",
    "plt.ylabel('delta AIC')\n",
    "plt.show()"
   ]
  },
  {
   "cell_type": "markdown",
   "metadata": {},
   "source": [
    "We notice that in practice, the generalization error correlates nicely with the differences in the AIC between the models. Moreover models with very similiar and high AIC provide very comparable generalization error.\n",
    "\n",
    "Important quantities for model averaging are the Akaike weights:\n",
    "\n",
    "$$w_i = \\frac{\\exp(-\\frac{1}{2}\\Delta AIC_i)}{\\sum_{j=1}^m\\exp(-\\frac{1}{2}\\Delta AIC_j)}. $$\n",
    "\n",
    "The Akaike weights sum to one, and represent the relative ''importance'' of a model with respect to the associated AIC score. A larger Akaike weight indicates more importance. We could take the Akaike weights as an heuristic of the probability of a given model to perform best on unseen data.\n",
    "\n",
    "It is important to note that the Akaike weights are subject to sampling variability, and that a different sample will most likely generate a different set of weights for the models in the candidate set."
   ]
  },
  {
   "cell_type": "code",
   "execution_count": 12,
   "metadata": {},
   "outputs": [
    {
     "data": {
      "text/html": [
       "<div>\n",
       "<style scoped>\n",
       "    .dataframe tbody tr th:only-of-type {\n",
       "        vertical-align: middle;\n",
       "    }\n",
       "\n",
       "    .dataframe tbody tr th {\n",
       "        vertical-align: top;\n",
       "    }\n",
       "\n",
       "    .dataframe thead th {\n",
       "        text-align: right;\n",
       "    }\n",
       "</style>\n",
       "<table border=\"1\" class=\"dataframe\">\n",
       "  <thead>\n",
       "    <tr style=\"text-align: right;\">\n",
       "      <th></th>\n",
       "      <th>model</th>\n",
       "      <th>AIC</th>\n",
       "      <th>AICc</th>\n",
       "      <th>BIC</th>\n",
       "      <th>neg_loglik</th>\n",
       "      <th>d</th>\n",
       "      <th>AW</th>\n",
       "    </tr>\n",
       "  </thead>\n",
       "  <tbody>\n",
       "    <tr>\n",
       "      <th>0</th>\n",
       "      <td>(0, 3, 4)</td>\n",
       "      <td>93.103167</td>\n",
       "      <td>94.603167</td>\n",
       "      <td>105.077561</td>\n",
       "      <td>43.551584</td>\n",
       "      <td>0.000000</td>\n",
       "      <td>0.315211</td>\n",
       "    </tr>\n",
       "    <tr>\n",
       "      <th>1</th>\n",
       "      <td>(3, 4)</td>\n",
       "      <td>94.683363</td>\n",
       "      <td>95.389245</td>\n",
       "      <td>102.666292</td>\n",
       "      <td>45.341681</td>\n",
       "      <td>1.580196</td>\n",
       "      <td>0.143043</td>\n",
       "    </tr>\n",
       "    <tr>\n",
       "      <th>2</th>\n",
       "      <td>(0, 2, 3, 4)</td>\n",
       "      <td>94.944993</td>\n",
       "      <td>97.611660</td>\n",
       "      <td>110.910851</td>\n",
       "      <td>43.472496</td>\n",
       "      <td>1.841826</td>\n",
       "      <td>0.125503</td>\n",
       "    </tr>\n",
       "    <tr>\n",
       "      <th>3</th>\n",
       "      <td>(0, 1, 3, 4)</td>\n",
       "      <td>95.027496</td>\n",
       "      <td>97.694163</td>\n",
       "      <td>110.993355</td>\n",
       "      <td>43.513748</td>\n",
       "      <td>1.924329</td>\n",
       "      <td>0.120431</td>\n",
       "    </tr>\n",
       "    <tr>\n",
       "      <th>4</th>\n",
       "      <td>(2, 3, 4)</td>\n",
       "      <td>96.552954</td>\n",
       "      <td>98.052954</td>\n",
       "      <td>108.527347</td>\n",
       "      <td>45.276477</td>\n",
       "      <td>3.449787</td>\n",
       "      <td>0.056168</td>\n",
       "    </tr>\n",
       "    <tr>\n",
       "      <th>5</th>\n",
       "      <td>(1, 3, 4)</td>\n",
       "      <td>96.575179</td>\n",
       "      <td>98.075179</td>\n",
       "      <td>108.549573</td>\n",
       "      <td>45.287590</td>\n",
       "      <td>3.472012</td>\n",
       "      <td>0.055547</td>\n",
       "    </tr>\n",
       "    <tr>\n",
       "      <th>6</th>\n",
       "      <td>(0, 1, 2, 3, 4)</td>\n",
       "      <td>96.893968</td>\n",
       "      <td>101.179682</td>\n",
       "      <td>116.851291</td>\n",
       "      <td>43.446984</td>\n",
       "      <td>3.790801</td>\n",
       "      <td>0.047363</td>\n",
       "    </tr>\n",
       "    <tr>\n",
       "      <th>7</th>\n",
       "      <td>(4,)</td>\n",
       "      <td>97.632008</td>\n",
       "      <td>97.854230</td>\n",
       "      <td>101.623472</td>\n",
       "      <td>47.816004</td>\n",
       "      <td>4.528840</td>\n",
       "      <td>0.032747</td>\n",
       "    </tr>\n",
       "    <tr>\n",
       "      <th>8</th>\n",
       "      <td>(0, 4)</td>\n",
       "      <td>98.076256</td>\n",
       "      <td>98.782138</td>\n",
       "      <td>106.059185</td>\n",
       "      <td>47.038128</td>\n",
       "      <td>4.973088</td>\n",
       "      <td>0.026225</td>\n",
       "    </tr>\n",
       "    <tr>\n",
       "      <th>9</th>\n",
       "      <td>(1, 2, 3, 4)</td>\n",
       "      <td>98.471708</td>\n",
       "      <td>101.138375</td>\n",
       "      <td>114.437567</td>\n",
       "      <td>45.235854</td>\n",
       "      <td>5.368541</td>\n",
       "      <td>0.021520</td>\n",
       "    </tr>\n",
       "  </tbody>\n",
       "</table>\n",
       "</div>"
      ],
      "text/plain": [
       "             model        AIC        AICc         BIC  neg_loglik         d  \\\n",
       "0        (0, 3, 4)  93.103167   94.603167  105.077561   43.551584  0.000000   \n",
       "1           (3, 4)  94.683363   95.389245  102.666292   45.341681  1.580196   \n",
       "2     (0, 2, 3, 4)  94.944993   97.611660  110.910851   43.472496  1.841826   \n",
       "3     (0, 1, 3, 4)  95.027496   97.694163  110.993355   43.513748  1.924329   \n",
       "4        (2, 3, 4)  96.552954   98.052954  108.527347   45.276477  3.449787   \n",
       "5        (1, 3, 4)  96.575179   98.075179  108.549573   45.287590  3.472012   \n",
       "6  (0, 1, 2, 3, 4)  96.893968  101.179682  116.851291   43.446984  3.790801   \n",
       "7             (4,)  97.632008   97.854230  101.623472   47.816004  4.528840   \n",
       "8           (0, 4)  98.076256   98.782138  106.059185   47.038128  4.973088   \n",
       "9     (1, 2, 3, 4)  98.471708  101.138375  114.437567   45.235854  5.368541   \n",
       "\n",
       "         AW  \n",
       "0  0.315211  \n",
       "1  0.143043  \n",
       "2  0.125503  \n",
       "3  0.120431  \n",
       "4  0.056168  \n",
       "5  0.055547  \n",
       "6  0.047363  \n",
       "7  0.032747  \n",
       "8  0.026225  \n",
       "9  0.021520  "
      ]
     },
     "execution_count": 12,
     "metadata": {},
     "output_type": "execute_result"
    }
   ],
   "source": [
    "Akaike_weights = np.exp(-0.5 * model_comparison['d'])/np.sum(np.exp(-0.5 * model_comparison['d']))\n",
    "model_comparison.insert(len(model_comparison.columns), 'AW', Akaike_weights)\n",
    "\n",
    "model_comparison[:10]"
   ]
  },
  {
   "cell_type": "markdown",
   "metadata": {},
   "source": [
    "The Akaike weights can be used to identify the ''best'' way to combine the model predictions according to their relative importance:"
   ]
  },
  {
   "cell_type": "code",
   "execution_count": 13,
   "metadata": {},
   "outputs": [],
   "source": [
    "MSE_AW = []\n",
    "for i in range(500):\n",
    "    x = np.random.randn(200*d).reshape(200,d)\n",
    "    noise = np.random.randn(200) * var_noise\n",
    "    y = x.dot(coefficients)  + noise\n",
    "    \n",
    "    prediction = 0\n",
    "    \n",
    "    for model in range(len(fitted_models)):\n",
    "        prediction += model_comparison['AW'][model] * x.dot(fitted_models.coef[model])\n",
    "    \n",
    "    MSE_AW.append(np.mean((y-prediction)**2))\n",
    "\n",
    "MSE = []    \n",
    " \n",
    "MSE.append(MSE_AW)\n",
    "\n",
    "for model in range(len(fitted_models)):\n",
    "    fold_MSE = []\n",
    "    for i in range(500):\n",
    "        x = np.random.randn(200*d).reshape(200,d)\n",
    "        noise = np.random.randn(200) * var_noise\n",
    "        y = x.dot(coefficients)  + noise\n",
    "        prediction = x.dot(fitted_models.coef[model])\n",
    "        fold_MSE.append(np.mean((y-prediction)**2))\n",
    "    MSE.append(fold_MSE)\n",
    "\n",
    "\n"
   ]
  },
  {
   "cell_type": "code",
   "execution_count": 14,
   "metadata": {},
   "outputs": [
    {
     "data": {
      "image/png": "[encoded data removed]",
      "text/plain": [
       "<Figure size 432x288 with 1 Axes>"
      ]
     },
     "metadata": {
      "needs_background": "light"
     },
     "output_type": "display_data"
    }
   ],
   "source": [
    "plt.boxplot(MSE[:5], labels = ['AW weighted', 'model 0', 'model 1', 'model 2', 'model 3'])\n",
    "plt.title('Prediction error')\n",
    "plt.show()"
   ]
  },
  {
   "cell_type": "markdown",
   "metadata": {},
   "source": [
    "In the linear model case, the weighted predictions correspond to the predictions obtained by weighting the models' parameters according to the respective Akaike weights:"
   ]
  },
  {
   "cell_type": "code",
   "execution_count": 15,
   "metadata": {},
   "outputs": [
    {
     "name": "stdout",
     "output_type": "stream",
     "text": [
      "The coefficients normalized by Akaike weights for AIC: \n",
      "[ 0.66017538 -0.03271297  0.06077027  1.50010637  2.56547445]\n"
     ]
    }
   ],
   "source": [
    "AIC_weighted_coefs = np.array(Akaike_weights) * np.array(fitted_models['coef'])\n",
    "\n",
    "AIC_normalized_coefs = np.sum(AIC_weighted_coefs,0)/np.sum(np.array(Akaike_weights))\n",
    "\n",
    "print('The coefficients normalized by Akaike weights for AIC: \\n{0}'.format(AIC_normalized_coefs))"
   ]
  },
  {
   "cell_type": "markdown",
   "metadata": {},
   "source": [
    "The same exercise canbe repeated for BIC (and AICc):"
   ]
  },
  {
   "cell_type": "code",
   "execution_count": 16,
   "metadata": {},
   "outputs": [
    {
     "data": {
      "text/html": [
       "<div>\n",
       "<style scoped>\n",
       "    .dataframe tbody tr th:only-of-type {\n",
       "        vertical-align: middle;\n",
       "    }\n",
       "\n",
       "    .dataframe tbody tr th {\n",
       "        vertical-align: top;\n",
       "    }\n",
       "\n",
       "    .dataframe thead th {\n",
       "        text-align: right;\n",
       "    }\n",
       "</style>\n",
       "<table border=\"1\" class=\"dataframe\">\n",
       "  <thead>\n",
       "    <tr style=\"text-align: right;\">\n",
       "      <th></th>\n",
       "      <th>model</th>\n",
       "      <th>BIC</th>\n",
       "    </tr>\n",
       "  </thead>\n",
       "  <tbody>\n",
       "    <tr>\n",
       "      <th>7</th>\n",
       "      <td>(4,)</td>\n",
       "      <td>101.623472</td>\n",
       "    </tr>\n",
       "    <tr>\n",
       "      <th>1</th>\n",
       "      <td>(3, 4)</td>\n",
       "      <td>102.666292</td>\n",
       "    </tr>\n",
       "    <tr>\n",
       "      <th>0</th>\n",
       "      <td>(0, 3, 4)</td>\n",
       "      <td>105.077561</td>\n",
       "    </tr>\n",
       "    <tr>\n",
       "      <th>8</th>\n",
       "      <td>(0, 4)</td>\n",
       "      <td>106.059185</td>\n",
       "    </tr>\n",
       "    <tr>\n",
       "      <th>10</th>\n",
       "      <td>(2, 4)</td>\n",
       "      <td>107.602044</td>\n",
       "    </tr>\n",
       "    <tr>\n",
       "      <th>11</th>\n",
       "      <td>(1, 4)</td>\n",
       "      <td>107.613672</td>\n",
       "    </tr>\n",
       "    <tr>\n",
       "      <th>4</th>\n",
       "      <td>(2, 3, 4)</td>\n",
       "      <td>108.527347</td>\n",
       "    </tr>\n",
       "    <tr>\n",
       "      <th>5</th>\n",
       "      <td>(1, 3, 4)</td>\n",
       "      <td>108.549573</td>\n",
       "    </tr>\n",
       "    <tr>\n",
       "      <th>16</th>\n",
       "      <td>(3,)</td>\n",
       "      <td>108.967724</td>\n",
       "    </tr>\n",
       "    <tr>\n",
       "      <th>2</th>\n",
       "      <td>(0, 2, 3, 4)</td>\n",
       "      <td>110.910851</td>\n",
       "    </tr>\n",
       "  </tbody>\n",
       "</table>\n",
       "</div>"
      ],
      "text/plain": [
       "           model         BIC\n",
       "7           (4,)  101.623472\n",
       "1         (3, 4)  102.666292\n",
       "0      (0, 3, 4)  105.077561\n",
       "8         (0, 4)  106.059185\n",
       "10        (2, 4)  107.602044\n",
       "11        (1, 4)  107.613672\n",
       "4      (2, 3, 4)  108.527347\n",
       "5      (1, 3, 4)  108.549573\n",
       "16          (3,)  108.967724\n",
       "2   (0, 2, 3, 4)  110.910851"
      ]
     },
     "execution_count": 16,
     "metadata": {},
     "output_type": "execute_result"
    }
   ],
   "source": [
    "results.sort_values('BIC', ascending = True, inplace = True)\n",
    "BIC_model_comparison = results[['model',  'BIC']]\n",
    "\n",
    "BIC_fitted_models = results[['model', 'coef']]\n",
    "\n",
    "BIC_model_comparison[:10]"
   ]
  },
  {
   "cell_type": "markdown",
   "metadata": {},
   "source": [
    "We note that the BIC is generally more conservative than AIC. This is because BIC tends to favour the most conservative model, under the assumption that a true model for the data exists. AIC is related to the out-of-sample prediction, and therefore may not point to the true model generating the data, but to the one with best predictive performance. "
   ]
  },
  {
   "cell_type": "code",
   "execution_count": 17,
   "metadata": {},
   "outputs": [
    {
     "data": {
      "text/html": [
       "<div>\n",
       "<style scoped>\n",
       "    .dataframe tbody tr th:only-of-type {\n",
       "        vertical-align: middle;\n",
       "    }\n",
       "\n",
       "    .dataframe tbody tr th {\n",
       "        vertical-align: top;\n",
       "    }\n",
       "\n",
       "    .dataframe thead th {\n",
       "        text-align: right;\n",
       "    }\n",
       "</style>\n",
       "<table border=\"1\" class=\"dataframe\">\n",
       "  <thead>\n",
       "    <tr style=\"text-align: right;\">\n",
       "      <th></th>\n",
       "      <th>model</th>\n",
       "      <th>BIC</th>\n",
       "      <th>d</th>\n",
       "      <th>AW for BIC</th>\n",
       "    </tr>\n",
       "  </thead>\n",
       "  <tbody>\n",
       "    <tr>\n",
       "      <th>7</th>\n",
       "      <td>(4,)</td>\n",
       "      <td>101.623472</td>\n",
       "      <td>-3.454089</td>\n",
       "      <td>0.471914</td>\n",
       "    </tr>\n",
       "    <tr>\n",
       "      <th>1</th>\n",
       "      <td>(3, 4)</td>\n",
       "      <td>102.666292</td>\n",
       "      <td>-2.411269</td>\n",
       "      <td>0.280167</td>\n",
       "    </tr>\n",
       "    <tr>\n",
       "      <th>0</th>\n",
       "      <td>(0, 3, 4)</td>\n",
       "      <td>105.077561</td>\n",
       "      <td>0.000000</td>\n",
       "      <td>0.083911</td>\n",
       "    </tr>\n",
       "    <tr>\n",
       "      <th>8</th>\n",
       "      <td>(0, 4)</td>\n",
       "      <td>106.059185</td>\n",
       "      <td>0.981624</td>\n",
       "      <td>0.051364</td>\n",
       "    </tr>\n",
       "    <tr>\n",
       "      <th>10</th>\n",
       "      <td>(2, 4)</td>\n",
       "      <td>107.602044</td>\n",
       "      <td>2.524483</td>\n",
       "      <td>0.023748</td>\n",
       "    </tr>\n",
       "    <tr>\n",
       "      <th>11</th>\n",
       "      <td>(1, 4)</td>\n",
       "      <td>107.613672</td>\n",
       "      <td>2.536111</td>\n",
       "      <td>0.023611</td>\n",
       "    </tr>\n",
       "    <tr>\n",
       "      <th>4</th>\n",
       "      <td>(2, 3, 4)</td>\n",
       "      <td>108.527347</td>\n",
       "      <td>3.449787</td>\n",
       "      <td>0.014952</td>\n",
       "    </tr>\n",
       "    <tr>\n",
       "      <th>5</th>\n",
       "      <td>(1, 3, 4)</td>\n",
       "      <td>108.549573</td>\n",
       "      <td>3.472012</td>\n",
       "      <td>0.014787</td>\n",
       "    </tr>\n",
       "    <tr>\n",
       "      <th>16</th>\n",
       "      <td>(3,)</td>\n",
       "      <td>108.967724</td>\n",
       "      <td>3.890163</td>\n",
       "      <td>0.011997</td>\n",
       "    </tr>\n",
       "    <tr>\n",
       "      <th>2</th>\n",
       "      <td>(0, 2, 3, 4)</td>\n",
       "      <td>110.910851</td>\n",
       "      <td>5.833290</td>\n",
       "      <td>0.004541</td>\n",
       "    </tr>\n",
       "  </tbody>\n",
       "</table>\n",
       "</div>"
      ],
      "text/plain": [
       "           model         BIC         d  AW for BIC\n",
       "7           (4,)  101.623472 -3.454089    0.471914\n",
       "1         (3, 4)  102.666292 -2.411269    0.280167\n",
       "0      (0, 3, 4)  105.077561  0.000000    0.083911\n",
       "8         (0, 4)  106.059185  0.981624    0.051364\n",
       "10        (2, 4)  107.602044  2.524483    0.023748\n",
       "11        (1, 4)  107.613672  2.536111    0.023611\n",
       "4      (2, 3, 4)  108.527347  3.449787    0.014952\n",
       "5      (1, 3, 4)  108.549573  3.472012    0.014787\n",
       "16          (3,)  108.967724  3.890163    0.011997\n",
       "2   (0, 2, 3, 4)  110.910851  5.833290    0.004541"
      ]
     },
     "execution_count": 17,
     "metadata": {},
     "output_type": "execute_result"
    }
   ],
   "source": [
    "BIC_model_comparison.insert(len(BIC_model_comparison.columns), 'd', BIC_model_comparison.BIC - BIC_model_comparison.BIC[0])\n",
    "\n",
    "Akaike_weights_BIC = np.exp(-0.5 * BIC_model_comparison['d'])/np.sum(np.exp(-0.5 * BIC_model_comparison['d']))\n",
    "BIC_model_comparison.insert(len(BIC_model_comparison.columns), 'AW for BIC', Akaike_weights_BIC)\n",
    "BIC_model_comparison[:10]"
   ]
  },
  {
   "cell_type": "code",
   "execution_count": 18,
   "metadata": {},
   "outputs": [
    {
     "name": "stdout",
     "output_type": "stream",
     "text": [
      "The coefficients normalized by Akaike weights for BIC: \n",
      " [ 0.14059031 -0.00335072  0.01026733  0.67378785  2.69754637]\n"
     ]
    }
   ],
   "source": [
    "BIC_weighted_coefs = np.array(Akaike_weights_BIC) * np.array(BIC_fitted_models['coef'])\n",
    "\n",
    "BIC_normalized_coefs = np.sum(BIC_weighted_coefs,0)/np.sum(np.array(Akaike_weights_BIC))\n",
    "\n",
    "print('The coefficients normalized by Akaike weights for BIC: \\n {0}'.format(BIC_normalized_coefs))"
   ]
  },
  {
   "cell_type": "markdown",
   "metadata": {},
   "source": [
    "## AIC and leave-one-out\n",
    "\n",
    "It can be shown that AIC is asymptotically equivalent to leave-one-out. \n",
    "We are going to test the equivalence on our synthetic test."
   ]
  },
  {
   "cell_type": "code",
   "execution_count": 19,
   "metadata": {},
   "outputs": [
    {
     "ename": "AttributeError",
     "evalue": "'range' object has no attribute 'remove'",
     "output_type": "error",
     "traceback": [
      "\u001b[0;31m---------------------------------------------------------------------------\u001b[0m",
      "\u001b[0;31mAttributeError\u001b[0m                            Traceback (most recent call last)",
      "\u001b[0;32m<ipython-input-19-b6588e89da76>\u001b[0m in \u001b[0;36m<module>\u001b[0;34m\u001b[0m\n\u001b[1;32m     26\u001b[0m             \u001b[0;32mfor\u001b[0m \u001b[0midx\u001b[0m \u001b[0;32min\u001b[0m \u001b[0mrange\u001b[0m\u001b[0;34m(\u001b[0m\u001b[0mx\u001b[0m\u001b[0;34m.\u001b[0m\u001b[0mshape\u001b[0m\u001b[0;34m[\u001b[0m\u001b[0;36m0\u001b[0m\u001b[0;34m]\u001b[0m\u001b[0;34m)\u001b[0m\u001b[0;34m:\u001b[0m\u001b[0;34m\u001b[0m\u001b[0;34m\u001b[0m\u001b[0m\n\u001b[1;32m     27\u001b[0m                 \u001b[0mtraining_samples\u001b[0m \u001b[0;34m=\u001b[0m \u001b[0mrange\u001b[0m\u001b[0;34m(\u001b[0m\u001b[0mx\u001b[0m\u001b[0;34m.\u001b[0m\u001b[0mshape\u001b[0m\u001b[0;34m[\u001b[0m\u001b[0;36m0\u001b[0m\u001b[0;34m]\u001b[0m\u001b[0;34m)\u001b[0m\u001b[0;34m\u001b[0m\u001b[0;34m\u001b[0m\u001b[0m\n\u001b[0;32m---> 28\u001b[0;31m                 \u001b[0mtraining_samples\u001b[0m\u001b[0;34m.\u001b[0m\u001b[0mremove\u001b[0m\u001b[0;34m(\u001b[0m\u001b[0midx\u001b[0m\u001b[0;34m)\u001b[0m\u001b[0;34m\u001b[0m\u001b[0;34m\u001b[0m\u001b[0m\n\u001b[0m\u001b[1;32m     29\u001b[0m                 \u001b[0mx_train\u001b[0m \u001b[0;34m=\u001b[0m \u001b[0mx\u001b[0m\u001b[0;34m[\u001b[0m\u001b[0mtraining_samples\u001b[0m\u001b[0;34m,\u001b[0m\u001b[0;34m:\u001b[0m\u001b[0;34m]\u001b[0m\u001b[0;34m[\u001b[0m\u001b[0;34m:\u001b[0m\u001b[0;34m,\u001b[0m\u001b[0mindices\u001b[0m\u001b[0;34m]\u001b[0m\u001b[0;34m.\u001b[0m\u001b[0mreshape\u001b[0m\u001b[0;34m(\u001b[0m\u001b[0mx\u001b[0m\u001b[0;34m.\u001b[0m\u001b[0mshape\u001b[0m\u001b[0;34m[\u001b[0m\u001b[0;36m0\u001b[0m\u001b[0;34m]\u001b[0m\u001b[0;34m-\u001b[0m\u001b[0;36m1\u001b[0m\u001b[0;34m,\u001b[0m\u001b[0mn_elements\u001b[0m\u001b[0;34m)\u001b[0m\u001b[0;34m\u001b[0m\u001b[0;34m\u001b[0m\u001b[0m\n\u001b[1;32m     30\u001b[0m                 \u001b[0mw_ml\u001b[0m\u001b[0;34m,\u001b[0m \u001b[0msigma2_ml\u001b[0m \u001b[0;34m=\u001b[0m \u001b[0mfit_poly\u001b[0m\u001b[0;34m(\u001b[0m\u001b[0mx_train\u001b[0m\u001b[0;34m,\u001b[0m \u001b[0my\u001b[0m\u001b[0;34m[\u001b[0m\u001b[0mtraining_samples\u001b[0m\u001b[0;34m]\u001b[0m\u001b[0;34m)\u001b[0m\u001b[0;34m\u001b[0m\u001b[0;34m\u001b[0m\u001b[0m\n",
      "\u001b[0;31mAttributeError\u001b[0m: 'range' object has no attribute 'remove'"
     ]
    },
    {
     "data": {
      "text/plain": [
       "<Figure size 1440x2160 with 0 Axes>"
      ]
     },
     "metadata": {},
     "output_type": "display_data"
    }
   ],
   "source": [
    "plt.figure(figsize=(20,30))\n",
    "\n",
    "sample_size = [10, 50, 100, 200]\n",
    "\n",
    "for i,N in enumerate(sample_size):\n",
    "\n",
    "    # Define as usual our random data x\n",
    "    x = np.random.randn(N*d).reshape(N,d)\n",
    "\n",
    "    var_noise = 3\n",
    "    noise = np.random.randn(N) * var_noise\n",
    "\n",
    "    y = x.dot(coefficients)  + noise\n",
    "\n",
    "    LOO = []\n",
    "    model = []\n",
    "    AIC = []\n",
    "    BIC = []\n",
    "\n",
    "    for n_elements in range(1,d+1):\n",
    "        for indices in itertools.combinations(range(d),n_elements):\n",
    "            testing_ll = []\n",
    "            model.append(indices)\n",
    "\n",
    "            testing_MSE = []\n",
    "            for idx in range(x.shape[0]):\n",
    "                training_samples = range(x.shape[0])\n",
    "                training_samples.remove(idx)                                                             \n",
    "                x_train = x[training_samples,:][:,indices].reshape(x.shape[0]-1,n_elements)\n",
    "                w_ml, sigma2_ml = fit_poly(x_train, y[training_samples])\n",
    "                testing_MSE.append((y[idx]-x[idx,indices].dot(w_ml))**2)\n",
    "        \n",
    "            LOO.append(np.mean(testing_MSE))\n",
    "\n",
    "            # Fit the model\n",
    "            x_train = x[:,indices].reshape(x.shape[0],n_elements)\n",
    "            w_ml, sigma2_ml = fit_poly(x_train,y)\n",
    "        \n",
    "            # compute the log-likelihhod\n",
    "            training_ll = Gaussian_loglik(x_train,y,w_ml,sigma2_ml)\n",
    "            AIC.append(-2*training_ll + 2*n_elements)\n",
    "            BIC.append(-2*training_ll + 2*n_elements*np.log(x.shape[0]))\n",
    "        \n",
    "        \n",
    "    LOO_results = pd.DataFrame({'model': sorted_models, 'AIC' : AIC,  'BIC' : BIC, 'LOO': LOO})  \n",
    "    \n",
    "    n_col = 2\n",
    "    n_row = len(sample_size)\n",
    "\n",
    "    plt.subplot(n_row,n_col,n_col*i+1)\n",
    "    plt.title('N = ' + str(N))    \n",
    "    plt.scatter(LOO_results['LOO']/np.max(LOO_results['LOO']), LOO_results['AIC']/np.max(LOO_results['AIC']))\n",
    "    plt.xlabel('LOO MSE')\n",
    "    plt.ylabel('AIC')\n",
    "\n",
    "    plt.subplot(n_row,n_col,n_col*i+2)\n",
    "    plt.title('N = ' + str(N))\n",
    "    plt.scatter(LOO_results['LOO']/np.max(LOO_results['LOO']), LOO_results['BIC']/np.max(LOO_results['BIC']))\n",
    "    plt.xlabel('LOO MSE')\n",
    "    plt.ylabel('BIC')\n",
    "\n",
    "plt.show()\n",
    "        "
   ]
  },
  {
   "cell_type": "code",
   "execution_count": null,
   "metadata": {},
   "outputs": [],
   "source": []
  }
 ],
 "metadata": {
  "anaconda-cloud": {},
  "kernelspec": {
   "display_name": "Python 3",
   "language": "python",
   "name": "python3"
  },
  "language_info": {
   "codemirror_mode": {
    "name": "ipython",
    "version": 3
   },
   "file_extension": ".py",
   "mimetype": "text/x-python",
   "name": "python",
   "nbconvert_exporter": "python",
   "pygments_lexer": "ipython3",
   "version": "3.6.9"
  }
 },
 "nbformat": 4,
 "nbformat_minor": 1
}
