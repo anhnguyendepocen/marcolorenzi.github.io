{
 "cells": [
  {
   "cell_type": "markdown",
   "metadata": {},
   "source": [
    "## Exam 22/03/2019\n",
    "\n",
    "\n",
    "We work with the database ADNI, containing information for a clinical cohort of healhty volunteers and patients with Alzheimer's disease."
   ]
  },
  {
   "cell_type": "code",
   "execution_count": 69,
   "metadata": {
    "collapsed": false
   },
   "outputs": [
    {
     "data": {
      "text/html": [
       "<div>\n",
       "<style scoped>\n",
       "    .dataframe tbody tr th:only-of-type {\n",
       "        vertical-align: middle;\n",
       "    }\n",
       "\n",
       "    .dataframe tbody tr th {\n",
       "        vertical-align: top;\n",
       "    }\n",
       "\n",
       "    .dataframe thead th {\n",
       "        text-align: right;\n",
       "    }\n",
       "</style>\n",
       "<table border=\"1\" class=\"dataframe\">\n",
       "  <thead>\n",
       "    <tr style=\"text-align: right;\">\n",
       "      <th></th>\n",
       "      <th>Unnamed: 0</th>\n",
       "      <th>RID</th>\n",
       "      <th>Hippocampus_volume</th>\n",
       "      <th>AGE</th>\n",
       "      <th>PTGENDER</th>\n",
       "      <th>PTEDUCAT</th>\n",
       "      <th>ADAS11</th>\n",
       "      <th>FDG</th>\n",
       "      <th>DX</th>\n",
       "    </tr>\n",
       "  </thead>\n",
       "  <tbody>\n",
       "    <tr>\n",
       "      <th>0</th>\n",
       "      <td>1</td>\n",
       "      <td>2</td>\n",
       "      <td>0.004200</td>\n",
       "      <td>74.3</td>\n",
       "      <td>1</td>\n",
       "      <td>16</td>\n",
       "      <td>10.67</td>\n",
       "      <td>1.369264</td>\n",
       "      <td>NL</td>\n",
       "    </tr>\n",
       "    <tr>\n",
       "      <th>1</th>\n",
       "      <td>16</td>\n",
       "      <td>3</td>\n",
       "      <td>0.002769</td>\n",
       "      <td>81.3</td>\n",
       "      <td>1</td>\n",
       "      <td>18</td>\n",
       "      <td>22.00</td>\n",
       "      <td>1.090790</td>\n",
       "      <td>Dementia</td>\n",
       "    </tr>\n",
       "    <tr>\n",
       "      <th>2</th>\n",
       "      <td>27</td>\n",
       "      <td>5</td>\n",
       "      <td>0.004312</td>\n",
       "      <td>73.7</td>\n",
       "      <td>1</td>\n",
       "      <td>16</td>\n",
       "      <td>8.67</td>\n",
       "      <td>1.297990</td>\n",
       "      <td>NL</td>\n",
       "    </tr>\n",
       "    <tr>\n",
       "      <th>3</th>\n",
       "      <td>46</td>\n",
       "      <td>8</td>\n",
       "      <td>0.004355</td>\n",
       "      <td>84.5</td>\n",
       "      <td>2</td>\n",
       "      <td>18</td>\n",
       "      <td>5.00</td>\n",
       "      <td>1.276278</td>\n",
       "      <td>NL</td>\n",
       "    </tr>\n",
       "    <tr>\n",
       "      <th>4</th>\n",
       "      <td>60</td>\n",
       "      <td>10</td>\n",
       "      <td>0.003728</td>\n",
       "      <td>73.9</td>\n",
       "      <td>2</td>\n",
       "      <td>12</td>\n",
       "      <td>12.33</td>\n",
       "      <td>1.118814</td>\n",
       "      <td>Dementia</td>\n",
       "    </tr>\n",
       "    <tr>\n",
       "      <th>5</th>\n",
       "      <td>65</td>\n",
       "      <td>14</td>\n",
       "      <td>0.005301</td>\n",
       "      <td>78.5</td>\n",
       "      <td>2</td>\n",
       "      <td>12</td>\n",
       "      <td>4.33</td>\n",
       "      <td>1.256990</td>\n",
       "      <td>NL</td>\n",
       "    </tr>\n",
       "    <tr>\n",
       "      <th>6</th>\n",
       "      <td>80</td>\n",
       "      <td>16</td>\n",
       "      <td>0.005406</td>\n",
       "      <td>65.4</td>\n",
       "      <td>1</td>\n",
       "      <td>9</td>\n",
       "      <td>10.33</td>\n",
       "      <td>1.395434</td>\n",
       "      <td>NL</td>\n",
       "    </tr>\n",
       "    <tr>\n",
       "      <th>7</th>\n",
       "      <td>93</td>\n",
       "      <td>21</td>\n",
       "      <td>0.005607</td>\n",
       "      <td>72.6</td>\n",
       "      <td>2</td>\n",
       "      <td>18</td>\n",
       "      <td>6.67</td>\n",
       "      <td>1.382790</td>\n",
       "      <td>NL</td>\n",
       "    </tr>\n",
       "    <tr>\n",
       "      <th>8</th>\n",
       "      <td>114</td>\n",
       "      <td>23</td>\n",
       "      <td>0.005298</td>\n",
       "      <td>71.7</td>\n",
       "      <td>1</td>\n",
       "      <td>14</td>\n",
       "      <td>4.00</td>\n",
       "      <td>1.364222</td>\n",
       "      <td>NL</td>\n",
       "    </tr>\n",
       "    <tr>\n",
       "      <th>9</th>\n",
       "      <td>221</td>\n",
       "      <td>43</td>\n",
       "      <td>0.004564</td>\n",
       "      <td>76.2</td>\n",
       "      <td>1</td>\n",
       "      <td>16</td>\n",
       "      <td>7.00</td>\n",
       "      <td>1.308406</td>\n",
       "      <td>NL</td>\n",
       "    </tr>\n",
       "  </tbody>\n",
       "</table>\n",
       "</div>"
      ],
      "text/plain": [
       "   Unnamed: 0  RID  Hippocampus_volume   AGE  PTGENDER  PTEDUCAT  ADAS11  \\\n",
       "0           1    2            0.004200  74.3         1        16   10.67   \n",
       "1          16    3            0.002769  81.3         1        18   22.00   \n",
       "2          27    5            0.004312  73.7         1        16    8.67   \n",
       "3          46    8            0.004355  84.5         2        18    5.00   \n",
       "4          60   10            0.003728  73.9         2        12   12.33   \n",
       "5          65   14            0.005301  78.5         2        12    4.33   \n",
       "6          80   16            0.005406  65.4         1         9   10.33   \n",
       "7          93   21            0.005607  72.6         2        18    6.67   \n",
       "8         114   23            0.005298  71.7         1        14    4.00   \n",
       "9         221   43            0.004564  76.2         1        16    7.00   \n",
       "\n",
       "        FDG        DX  \n",
       "0  1.369264        NL  \n",
       "1  1.090790  Dementia  \n",
       "2  1.297990        NL  \n",
       "3  1.276278        NL  \n",
       "4  1.118814  Dementia  \n",
       "5  1.256990        NL  \n",
       "6  1.395434        NL  \n",
       "7  1.382790        NL  \n",
       "8  1.364222        NL  \n",
       "9  1.308406        NL  "
      ]
     },
     "execution_count": 69,
     "metadata": {},
     "output_type": "execute_result"
    }
   ],
   "source": [
    "import numpy as np\n",
    "import pandas as pd\n",
    "\n",
    "dataset = pd.read_csv('data.csv')\n",
    "dataset[:10]"
   ]
  },
  {
   "cell_type": "markdown",
   "metadata": {},
   "source": [
    "Data fields:\n",
    "- RID: subject's identifier\n",
    "- Hippocampus_volume = normalized volume of the brain region hippocampus\n",
    "- AGE: subject's age\n",
    "- PTGENDER: subject's sex (1 Male, 2 Female)\n",
    "- PTEDUCAT: years of education\n",
    "- ADAS11: clinical score (Alzheimer's disease assessment scale)\n",
    "- FDG: measure of average brain metabolism\n",
    "- DX: clinical diagnosis. In order to severity we have NL (normal), MCI (mild cognitive impairment), and Dementia"
   ]
  },
  {
   "cell_type": "markdown",
   "metadata": {},
   "source": [
    "__Exercise 1.__ Estimate mean and standard deviation for the classification accuracy of the algorithms Logistic Regression and Nearest Neighbours classifier for predicting clinical diagnosis based on the variables Hippocampus_volume, AGE, PTGENDER, PTEDUCAT, ADAS11, and FDG. (use at least 1000 repetitions)"
   ]
  },
  {
   "cell_type": "code",
   "execution_count": null,
   "metadata": {
    "collapsed": false
   },
   "outputs": [],
   "source": []
  },
  {
   "cell_type": "markdown",
   "metadata": {},
   "source": [
    "__Exercise 2.__ Use boostrap to estimate the significance of the difference between the accuracy of Logistic regression and the one of Nearest Neighbours."
   ]
  },
  {
   "cell_type": "code",
   "execution_count": null,
   "metadata": {
    "collapsed": false
   },
   "outputs": [],
   "source": []
  },
  {
   "cell_type": "markdown",
   "metadata": {},
   "source": [
    "__Exercise 3__. Compute a 95% confidence interval for the median years of education in the group Dementia, and in the group healthy (NL). Are the median significantly different?  "
   ]
  },
  {
   "cell_type": "code",
   "execution_count": null,
   "metadata": {
    "collapsed": false
   },
   "outputs": [],
   "source": []
  },
  {
   "cell_type": "markdown",
   "metadata": {},
   "source": [
    "__ Exercise 4.__ Use the information criteria to decide what is the best polynomial model that explains the relatioship between FDG (predictor) and ADAS11 (target) in the group MCI? And in the group NL? "
   ]
  },
  {
   "cell_type": "code",
   "execution_count": null,
   "metadata": {
    "collapsed": false
   },
   "outputs": [],
   "source": []
  },
  {
   "cell_type": "markdown",
   "metadata": {},
   "source": [
    "__ Exercise 5.__ Repeat Exercise 4 by using leave one out, and compare the results."
   ]
  },
  {
   "cell_type": "code",
   "execution_count": null,
   "metadata": {
    "collapsed": true
   },
   "outputs": [],
   "source": []
  },
  {
   "cell_type": "markdown",
   "metadata": {},
   "source": [
    "__ Exercise 6.__ What is the best combination of variables (excluded DX) for predicting ADAS11 with a linear model?"
   ]
  },
  {
   "cell_type": "code",
   "execution_count": null,
   "metadata": {
    "collapsed": true
   },
   "outputs": [],
   "source": []
  },
  {
   "cell_type": "markdown",
   "metadata": {},
   "source": [
    "__Exercise 7.__ Consider only the healtiest subjects for which diagnosis == NL and ADAS11 < 5. Compare the performance of the classifiers of Exercise 1 for discriminating this group from the group MCI."
   ]
  },
  {
   "cell_type": "code",
   "execution_count": null,
   "metadata": {
    "collapsed": false
   },
   "outputs": [],
   "source": []
  },
  {
   "cell_type": "markdown",
   "metadata": {},
   "source": [
    "__ Exercise 8.__ Is it true that a model with the lowest AIC is the best one? "
   ]
  },
  {
   "cell_type": "code",
   "execution_count": null,
   "metadata": {
    "collapsed": true
   },
   "outputs": [],
   "source": []
  },
  {
   "cell_type": "markdown",
   "metadata": {},
   "source": [
    "__Exercise 9.__ Explain the concept of bias-variance decomposition"
   ]
  },
  {
   "cell_type": "code",
   "execution_count": null,
   "metadata": {
    "collapsed": true
   },
   "outputs": [],
   "source": []
  },
  {
   "cell_type": "markdown",
   "metadata": {},
   "source": [
    "__Exercise 10.__ Generate synthetic data of 20 samples with a polynomial relationship of degree 3, and arbitrary noise. Train polynomial models of degree 1, 2, and 3, and 5. Compute AIC and BIC for these models. Comment the results. "
   ]
  },
  {
   "cell_type": "code",
   "execution_count": null,
   "metadata": {
    "collapsed": true
   },
   "outputs": [],
   "source": []
  },
  {
   "cell_type": "markdown",
   "metadata": {},
   "source": [
    "__Exercise 11.__ From Exercise 1 compute the probability that the average prediction accuracy of Logistic classifier is greater than 0.66."
   ]
  },
  {
   "cell_type": "code",
   "execution_count": null,
   "metadata": {
    "collapsed": true
   },
   "outputs": [],
   "source": []
  },
  {
   "cell_type": "markdown",
   "metadata": {},
   "source": [
    "__ Exercise 12.__ Explain when the use of the area under the curve (AUC) can lead to biased estimation of the accuracy."
   ]
  },
  {
   "cell_type": "code",
   "execution_count": null,
   "metadata": {
    "collapsed": true
   },
   "outputs": [],
   "source": []
  }
 ],
 "metadata": {
  "anaconda-cloud": {},
  "kernelspec": {
   "display_name": "Python [conda env:anaconda]",
   "language": "python",
   "name": "conda-env-anaconda-py"
  },
  "language_info": {
   "codemirror_mode": {
    "name": "ipython",
    "version": 2
   },
   "file_extension": ".py",
   "mimetype": "text/x-python",
   "name": "python",
   "nbconvert_exporter": "python",
   "pygments_lexer": "ipython2",
   "version": "2.7.12"
  }
 },
 "nbformat": 4,
 "nbformat_minor": 1
}
